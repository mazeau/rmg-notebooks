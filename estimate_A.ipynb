{
 "cells": [
  {
   "cell_type": "code",
   "execution_count": 3,
   "id": "1e7c6e3e",
   "metadata": {},
   "outputs": [
    {
     "name": "stderr",
     "output_type": "stream",
     "text": [
      "WARNING:root:An instance of RMGDatabase already exists. Re-initializing it.\n"
     ]
    }
   ],
   "source": [
    "import rmgpy\n",
    "import rmg\n",
    "import numpy as np\n",
    "\n",
    "from rmgpy.data.rmg import RMGDatabase\n",
    "from rmgpy import settings\n",
    "from rmgpy.molecule import Molecule\n",
    "from rmgpy.species import Species\n",
    "from rmgpy.thermo.thermoengine import submit\n",
    "from rmgpy.data.thermo import Database, ThermoGroups\n",
    "from rmgpy.thermo import ThermoData\n",
    "from rmgpy.data.base import Database\n",
    "from rmgpy.data.kinetics import KineticsGroups\n",
    "from rmgpy.data.kinetics import KineticsFamily\n",
    "import os\n",
    "path = os.path.join(settings['database.directory'],'thermo')\n",
    "database = RMGDatabase()"
   ]
  },
  {
   "cell_type": "code",
   "execution_count": 15,
   "id": "8725f9fa",
   "metadata": {},
   "outputs": [],
   "source": [
    "database.load(path = os.path.join(settings['database.directory']),\n",
    "              thermo_libraries=['primaryThermoLibrary','surfaceThermoPt111','thermo_DFT_CCSDTF12_BAC','DFT_QCI_thermo'], \n",
    "              transport_libraries=None, reaction_libraries=[\n",
    "                  'Surface/cathub/Ag',\n",
    "#                   'Surface/cathub/Au',\n",
    "#                   'Surface/cathub/Co',\n",
    "#                   'Surface/cathub/Cu',\n",
    "#                   'Surface/cathub/Fe',\n",
    "#                   'Surface/cathub/Ir',\n",
    "#                   'Surface/cathub/Ni',\n",
    "#                   'Surface/cathub/Pd',\n",
    "#                   'Surface/cathub/Pt',\n",
    "#                   'Surface/cathub/Rh',\n",
    "#                   'Surface/cathub/Ru',\n",
    "#                   'Surface/cathub/W',\n",
    "              ], \n",
    "              seed_mechanisms=None, kinetics_families=[\n",
    "                  'Surface_Abstraction',\n",
    "                  'Surface_Abstraction_Single_vdW',\n",
    "                  'Surface_Abstraction_vdW',\n",
    "                  'Surface_Addition_Single_vdW',\n",
    "                  'Surface_Adsorption_Abstraction_vdW',\n",
    "                  'Surface_Adsorption_Bidentate',\n",
    "                  'Surface_Adsorption_Dissociative',\n",
    "                  'Surface_Adsorption_Dissociative_Double',\n",
    "                  'Surface_Adsorption_Double',\n",
    "                  'Surface_Adsorption_Single',\n",
    "                  'Surface_Adsorption_vdW',\n",
    "                  'Surface_Bidentate_Dissociation',\n",
    "                  'Surface_Dissociation',\n",
    "                  'Surface_Dissociation_Beta',\n",
    "                  'Surface_Dissociation_Double_vdW',\n",
    "                  'Surface_Dissociation_vdW',\n",
    "                  'Surface_DoubleBond_to_Bidentate',\n",
    "                  'Surface_Dual_Adsorption_vdW',\n",
    "                  'Surface_EleyRideal_Addition_Multiple_Bond',\n",
    "                  'Surface_Migration',\n",
    "                  'Surface_vdW_to_Bidentate',\n",
    "              ], \n",
    "                    kinetics_depositories=None, statmech_libraries=None, \n",
    "                  depository=False, solvation=True, testing=False)"
   ]
  },
  {
   "cell_type": "code",
   "execution_count": 16,
   "id": "8b12b45f",
   "metadata": {},
   "outputs": [
    {
     "ename": "IndexError",
     "evalue": "tuple index out of range",
     "output_type": "error",
     "traceback": [
      "\u001b[0;31m---------------------------------------------------------------------------\u001b[0m",
      "\u001b[0;31mIndexError\u001b[0m                                Traceback (most recent call last)",
      "\u001b[0;32m<ipython-input-16-b798b6a3c13e>\u001b[0m in \u001b[0;36m<module>\u001b[0;34m\u001b[0m\n\u001b[0;32m----> 1\u001b[0;31m \u001b[0mMolecule\u001b[0m\u001b[0;34m.\u001b[0m\u001b[0mget_desorbed_molecules\u001b[0m\u001b[0;34m(\u001b[0m\u001b[0;34m)\u001b[0m\u001b[0;34m\u001b[0m\u001b[0;34m\u001b[0m\u001b[0m\n\u001b[0m",
      "\u001b[0;31mIndexError\u001b[0m: tuple index out of range"
     ]
    }
   ],
   "source": [
    "Molecule.get_desorbed_molecules()"
   ]
  },
  {
   "cell_type": "code",
   "execution_count": 60,
   "id": "90971106",
   "metadata": {},
   "outputs": [],
   "source": [
    "lib = database.kinetics.libraries['Surface/cathub/Ag']\n",
    "lib = lib.get_library_reactions()"
   ]
  },
  {
   "cell_type": "code",
   "execution_count": 61,
   "id": "7bbb0d50",
   "metadata": {},
   "outputs": [],
   "source": [
    "reactants = lib[1].reactants"
   ]
  },
  {
   "cell_type": "code",
   "execution_count": 62,
   "id": "3234b2a1",
   "metadata": {},
   "outputs": [
    {
     "ename": "TypeError",
     "evalue": "'rmgpy.species.Species' object is not subscriptable",
     "output_type": "error",
     "traceback": [
      "\u001b[0;31m---------------------------------------------------------------------------\u001b[0m",
      "\u001b[0;31mTypeError\u001b[0m                                 Traceback (most recent call last)",
      "\u001b[0;32m<ipython-input-62-33b365e9b5ad>\u001b[0m in \u001b[0;36m<module>\u001b[0;34m\u001b[0m\n\u001b[0;32m----> 1\u001b[0;31m \u001b[0mr\u001b[0m \u001b[0;34m=\u001b[0m \u001b[0;34m[\u001b[0m\u001b[0mitem\u001b[0m\u001b[0;34m[\u001b[0m\u001b[0;36m0\u001b[0m\u001b[0;34m]\u001b[0m \u001b[0;32mfor\u001b[0m \u001b[0mitem\u001b[0m \u001b[0;32min\u001b[0m \u001b[0mreactants\u001b[0m\u001b[0;34m]\u001b[0m\u001b[0;34m\u001b[0m\u001b[0;34m\u001b[0m\u001b[0m\n\u001b[0m",
      "\u001b[0;32m<ipython-input-62-33b365e9b5ad>\u001b[0m in \u001b[0;36m<listcomp>\u001b[0;34m(.0)\u001b[0m\n\u001b[0;32m----> 1\u001b[0;31m \u001b[0mr\u001b[0m \u001b[0;34m=\u001b[0m \u001b[0;34m[\u001b[0m\u001b[0mitem\u001b[0m\u001b[0;34m[\u001b[0m\u001b[0;36m0\u001b[0m\u001b[0;34m]\u001b[0m \u001b[0;32mfor\u001b[0m \u001b[0mitem\u001b[0m \u001b[0;32min\u001b[0m \u001b[0mreactants\u001b[0m\u001b[0;34m]\u001b[0m\u001b[0;34m\u001b[0m\u001b[0;34m\u001b[0m\u001b[0m\n\u001b[0m",
      "\u001b[0;31mTypeError\u001b[0m: 'rmgpy.species.Species' object is not subscriptable"
     ]
    }
   ],
   "source": [
    "r = [item[0] for item in reactants]"
   ]
  },
  {
   "cell_type": "code",
   "execution_count": 74,
   "id": "ca81fa85",
   "metadata": {},
   "outputs": [
    {
     "data": {
      "image/png": "[encoded data removed]",
      "text/plain": [
       "Species(label=\"CHX\", molecule=[Molecule(smiles=\"C#[Pt]\")], molecular_weight=(13.0186,'amu'))"
      ]
     },
     "execution_count": 74,
     "metadata": {},
     "output_type": "execute_result"
    }
   ],
   "source": [
    "reactants[0]"
   ]
  },
  {
   "cell_type": "code",
   "execution_count": 103,
   "id": "5d55a9f4",
   "metadata": {},
   "outputs": [
    {
     "data": {
      "text/plain": [
       "<bound method KineticsFamily.generate_reactions of <ReactionFamily \"Surface_Dissociation\">>"
      ]
     },
     "execution_count": 103,
     "metadata": {},
     "output_type": "execute_result"
    }
   ],
   "source": [
    "database.kinetics.families['Surface_Dissociation'].generate_reactions"
   ]
  },
  {
   "cell_type": "code",
   "execution_count": 99,
   "id": "be51b591",
   "metadata": {},
   "outputs": [
    {
     "data": {
      "text/plain": [
       "{'Surface_Abstraction': <ReactionFamily \"Surface_Abstraction\">,\n",
       " 'Surface_Abstraction_Single_vdW': <ReactionFamily \"Surface_Abstraction_Single_vdW\">,\n",
       " 'Surface_Abstraction_vdW': <ReactionFamily \"Surface_Abstraction_vdW\">,\n",
       " 'Surface_Addition_Single_vdW': <ReactionFamily \"Surface_Addition_Single_vdW\">,\n",
       " 'Surface_Adsorption_Abstraction_vdW': <ReactionFamily \"Surface_Adsorption_Abstraction_vdW\">,\n",
       " 'Surface_Adsorption_Bidentate': <ReactionFamily \"Surface_Adsorption_Bidentate\">,\n",
       " 'Surface_Adsorption_Dissociative': <ReactionFamily \"Surface_Adsorption_Dissociative\">,\n",
       " 'Surface_Adsorption_Dissociative_Double': <ReactionFamily \"Surface_Adsorption_Dissociative_Double\">,\n",
       " 'Surface_Adsorption_Double': <ReactionFamily \"Surface_Adsorption_Double\">,\n",
       " 'Surface_Adsorption_Single': <ReactionFamily \"Surface_Adsorption_Single\">,\n",
       " 'Surface_Adsorption_vdW': <ReactionFamily \"Surface_Adsorption_vdW\">,\n",
       " 'Surface_Bidentate_Dissociation': <ReactionFamily \"Surface_Bidentate_Dissociation\">,\n",
       " 'Surface_Dissociation': <ReactionFamily \"Surface_Dissociation\">,\n",
       " 'Surface_Dissociation_Beta': <ReactionFamily \"Surface_Dissociation_Beta\">,\n",
       " 'Surface_Dissociation_Double_vdW': <ReactionFamily \"Surface_Dissociation_Double_vdW\">,\n",
       " 'Surface_Dissociation_vdW': <ReactionFamily \"Surface_Dissociation_vdW\">,\n",
       " 'Surface_DoubleBond_to_Bidentate': <ReactionFamily \"Surface_DoubleBond_to_Bidentate\">,\n",
       " 'Surface_Dual_Adsorption_vdW': <ReactionFamily \"Surface_Dual_Adsorption_vdW\">,\n",
       " 'Surface_EleyRideal_Addition_Multiple_Bond': <ReactionFamily \"Surface_EleyRideal_Addition_Multiple_Bond\">,\n",
       " 'Surface_Migration': <ReactionFamily \"Surface_Migration\">,\n",
       " 'Surface_vdW_to_Bidentate': <ReactionFamily \"Surface_vdW_to_Bidentate\">}"
      ]
     },
     "execution_count": 99,
     "metadata": {},
     "output_type": "execute_result"
    }
   ],
   "source": [
    "database.kinetics.families"
   ]
  },
  {
   "cell_type": "code",
   "execution_count": null,
   "id": "b7f80a5b",
   "metadata": {},
   "outputs": [],
   "source": [
    "\n"
   ]
  },
  {
   "cell_type": "code",
   "execution_count": 36,
   "id": "92c529cd",
   "metadata": {},
   "outputs": [],
   "source": [
    "families = database.kinetics.families"
   ]
  },
  {
   "cell_type": "code",
   "execution_count": 141,
   "id": "ff2612ce",
   "metadata": {},
   "outputs": [
    {
     "name": "stdout",
     "output_type": "stream",
     "text": [
      "[Molecule(smiles=\"C#[Pt]\"), Molecule(smiles=\"[Pt]\")] and [Molecule(smiles=\"C~[Pt]\"), Molecule(smiles=\"[Pt]\")] matches family Surface_Dissociation\n",
      "[Molecule(smiles=\"O=C([Pt])C=[Pt]\")] and [Molecule(smiles=\"C#[Pt]\"), Molecule(smiles=\"O=C=[Pt]\")] matches family Surface_Bidentate_Dissociation\n"
     ]
    },
    {
     "ename": "ValueError",
     "evalue": "No atom in the molecule \nmultiplicity -187\n1 *4 X u0 p0 c0\n2 *4 X u0 p0 c0\n3 *1 O u0 p2 c0 {8,S}\n4 *2 C u0 p0 c0 {5,S} {6,S} {7,S}\n5    H u0 p0 c0 {4,S}\n6    H u0 p0 c0 {4,S}\n7    H u0 p0 c0 {4,S}\n8    H u0 p0 c0 {3,S}\n\n has the label \"*3\".",
     "output_type": "error",
     "traceback": [
      "\u001b[0;31m---------------------------------------------------------------------------\u001b[0m",
      "\u001b[0;31mValueError\u001b[0m                                Traceback (most recent call last)",
      "\u001b[0;32m<ipython-input-141-82f549206b23>\u001b[0m in \u001b[0;36m<module>\u001b[0;34m\u001b[0m\n\u001b[1;32m      4\u001b[0m \u001b[0;34m\u001b[0m\u001b[0m\n\u001b[1;32m      5\u001b[0m     \u001b[0;32mfor\u001b[0m \u001b[0mf\u001b[0m \u001b[0;32min\u001b[0m \u001b[0mfamilies\u001b[0m\u001b[0;34m:\u001b[0m\u001b[0;34m\u001b[0m\u001b[0;34m\u001b[0m\u001b[0m\n\u001b[0;32m----> 6\u001b[0;31m         \u001b[0mrxns\u001b[0m \u001b[0;34m=\u001b[0m \u001b[0mfamilies\u001b[0m\u001b[0;34m[\u001b[0m\u001b[0mf\u001b[0m\u001b[0;34m]\u001b[0m\u001b[0;34m.\u001b[0m\u001b[0mgenerate_reactions\u001b[0m\u001b[0;34m(\u001b[0m\u001b[0mreactants\u001b[0m\u001b[0;34m=\u001b[0m\u001b[0mreactants\u001b[0m\u001b[0;34m)\u001b[0m\u001b[0;34m\u001b[0m\u001b[0;34m\u001b[0m\u001b[0m\n\u001b[0m\u001b[1;32m      7\u001b[0m \u001b[0;34m\u001b[0m\u001b[0m\n\u001b[1;32m      8\u001b[0m         \u001b[0;32mfor\u001b[0m \u001b[0mr\u001b[0m \u001b[0;32min\u001b[0m \u001b[0mrxns\u001b[0m\u001b[0;34m:\u001b[0m\u001b[0;34m\u001b[0m\u001b[0;34m\u001b[0m\u001b[0m\n",
      "\u001b[0;32m~/Code/RMG-Py/rmgpy/data/kinetics/family.py\u001b[0m in \u001b[0;36mgenerate_reactions\u001b[0;34m(self, reactants, products, prod_resonance)\u001b[0m\n\u001b[1;32m   1823\u001b[0m         \u001b[0;31m# Forward direction (the direction in which kinetics is defined)\u001b[0m\u001b[0;34m\u001b[0m\u001b[0;34m\u001b[0m\u001b[0;34m\u001b[0m\u001b[0m\n\u001b[1;32m   1824\u001b[0m         reaction_list.extend(\n\u001b[0;32m-> 1825\u001b[0;31m             self._generate_reactions(reactants, products=products, forward=True, prod_resonance=prod_resonance))\n\u001b[0m\u001b[1;32m   1826\u001b[0m \u001b[0;34m\u001b[0m\u001b[0m\n\u001b[1;32m   1827\u001b[0m         \u001b[0;32mif\u001b[0m \u001b[0;32mnot\u001b[0m \u001b[0mself\u001b[0m\u001b[0;34m.\u001b[0m\u001b[0mown_reverse\u001b[0m \u001b[0;32mand\u001b[0m \u001b[0mself\u001b[0m\u001b[0;34m.\u001b[0m\u001b[0mreversible\u001b[0m\u001b[0;34m:\u001b[0m\u001b[0;34m\u001b[0m\u001b[0;34m\u001b[0m\u001b[0m\n",
      "\u001b[0;32m~/Code/RMG-Py/rmgpy/data/kinetics/family.py\u001b[0m in \u001b[0;36m_generate_reactions\u001b[0;34m(self, reactants, products, forward, prod_resonance, react_non_reactive)\u001b[0m\n\u001b[1;32m   2255\u001b[0m                             product_structures = self._generate_product_structures(reactant_structures,\n\u001b[1;32m   2256\u001b[0m                                                                                    \u001b[0;34m[\u001b[0m\u001b[0mmap_a\u001b[0m\u001b[0;34m,\u001b[0m \u001b[0mmap_b\u001b[0m\u001b[0;34m,\u001b[0m \u001b[0mmap_c\u001b[0m\u001b[0;34m]\u001b[0m\u001b[0;34m,\u001b[0m\u001b[0;34m\u001b[0m\u001b[0;34m\u001b[0m\u001b[0m\n\u001b[0;32m-> 2257\u001b[0;31m                                                                                    forward)\n\u001b[0m\u001b[1;32m   2258\u001b[0m                         \u001b[0;32mexcept\u001b[0m \u001b[0mForbiddenStructureException\u001b[0m\u001b[0;34m:\u001b[0m\u001b[0;34m\u001b[0m\u001b[0;34m\u001b[0m\u001b[0m\n\u001b[1;32m   2259\u001b[0m                             \u001b[0;32mpass\u001b[0m\u001b[0;34m\u001b[0m\u001b[0;34m\u001b[0m\u001b[0m\n",
      "\u001b[0;32m~/Code/RMG-Py/rmgpy/data/kinetics/family.py\u001b[0m in \u001b[0;36m_generate_product_structures\u001b[0;34m(self, reactant_structures, maps, forward)\u001b[0m\n\u001b[1;32m   1690\u001b[0m         \u001b[0;31m# Generate the product structures by applying the forward reaction recipe\u001b[0m\u001b[0;34m\u001b[0m\u001b[0;34m\u001b[0m\u001b[0;34m\u001b[0m\u001b[0m\n\u001b[1;32m   1691\u001b[0m         \u001b[0;32mtry\u001b[0m\u001b[0;34m:\u001b[0m\u001b[0;34m\u001b[0m\u001b[0;34m\u001b[0m\u001b[0m\n\u001b[0;32m-> 1692\u001b[0;31m             \u001b[0mproduct_structures\u001b[0m \u001b[0;34m=\u001b[0m \u001b[0mself\u001b[0m\u001b[0;34m.\u001b[0m\u001b[0mapply_recipe\u001b[0m\u001b[0;34m(\u001b[0m\u001b[0mreactant_structures\u001b[0m\u001b[0;34m,\u001b[0m \u001b[0mforward\u001b[0m\u001b[0;34m=\u001b[0m\u001b[0mforward\u001b[0m\u001b[0;34m)\u001b[0m\u001b[0;34m\u001b[0m\u001b[0;34m\u001b[0m\u001b[0m\n\u001b[0m\u001b[1;32m   1693\u001b[0m             \u001b[0;32mif\u001b[0m \u001b[0;32mnot\u001b[0m \u001b[0mproduct_structures\u001b[0m\u001b[0;34m:\u001b[0m\u001b[0;34m\u001b[0m\u001b[0;34m\u001b[0m\u001b[0m\n\u001b[1;32m   1694\u001b[0m                 \u001b[0;32mreturn\u001b[0m \u001b[0;32mNone\u001b[0m\u001b[0;34m\u001b[0m\u001b[0;34m\u001b[0m\u001b[0m\n",
      "\u001b[0;32m~/Code/RMG-Py/rmgpy/data/kinetics/family.py\u001b[0m in \u001b[0;36mapply_recipe\u001b[0;34m(self, reactant_structures, forward, unique)\u001b[0m\n\u001b[1;32m   1428\u001b[0m \u001b[0;34m\u001b[0m\u001b[0m\n\u001b[1;32m   1429\u001b[0m             \u001b[0;31m# Generate the product structure by applying the recipe\u001b[0m\u001b[0;34m\u001b[0m\u001b[0;34m\u001b[0m\u001b[0;34m\u001b[0m\u001b[0m\n\u001b[0;32m-> 1430\u001b[0;31m             \u001b[0mself\u001b[0m\u001b[0;34m.\u001b[0m\u001b[0mforward_recipe\u001b[0m\u001b[0;34m.\u001b[0m\u001b[0mapply_forward\u001b[0m\u001b[0;34m(\u001b[0m\u001b[0mreactant_structure\u001b[0m\u001b[0;34m,\u001b[0m \u001b[0munique\u001b[0m\u001b[0;34m)\u001b[0m\u001b[0;34m\u001b[0m\u001b[0;34m\u001b[0m\u001b[0m\n\u001b[0m\u001b[1;32m   1431\u001b[0m         \u001b[0;32melse\u001b[0m\u001b[0;34m:\u001b[0m\u001b[0;34m\u001b[0m\u001b[0;34m\u001b[0m\u001b[0m\n\u001b[1;32m   1432\u001b[0m             \u001b[0mself\u001b[0m\u001b[0;34m.\u001b[0m\u001b[0mreverse_recipe\u001b[0m\u001b[0;34m.\u001b[0m\u001b[0mapply_forward\u001b[0m\u001b[0;34m(\u001b[0m\u001b[0mreactant_structure\u001b[0m\u001b[0;34m,\u001b[0m \u001b[0munique\u001b[0m\u001b[0;34m)\u001b[0m\u001b[0;34m\u001b[0m\u001b[0;34m\u001b[0m\u001b[0m\n",
      "\u001b[0;32m~/Code/RMG-Py/rmgpy/data/kinetics/family.py\u001b[0m in \u001b[0;36mapply_forward\u001b[0;34m(self, struct, unique)\u001b[0m\n\u001b[1;32m    425\u001b[0m         \u001b[0;34m:\u001b[0m\u001b[0;32mclass\u001b[0m\u001b[0;34m:\u001b[0m\u001b[0;31m`\u001b[0m\u001b[0mMolecule\u001b[0m\u001b[0;31m`\u001b[0m \u001b[0mobject\u001b[0m\u001b[0;34m.\u001b[0m\u001b[0;34m\u001b[0m\u001b[0;34m\u001b[0m\u001b[0m\n\u001b[1;32m    426\u001b[0m         \"\"\"\n\u001b[0;32m--> 427\u001b[0;31m         \u001b[0;32mreturn\u001b[0m \u001b[0mself\u001b[0m\u001b[0;34m.\u001b[0m\u001b[0m_apply\u001b[0m\u001b[0;34m(\u001b[0m\u001b[0mstruct\u001b[0m\u001b[0;34m,\u001b[0m \u001b[0;32mTrue\u001b[0m\u001b[0;34m,\u001b[0m \u001b[0munique\u001b[0m\u001b[0;34m)\u001b[0m\u001b[0;34m\u001b[0m\u001b[0;34m\u001b[0m\u001b[0m\n\u001b[0m\u001b[1;32m    428\u001b[0m \u001b[0;34m\u001b[0m\u001b[0m\n\u001b[1;32m    429\u001b[0m     \u001b[0;32mdef\u001b[0m \u001b[0mapply_reverse\u001b[0m\u001b[0;34m(\u001b[0m\u001b[0mself\u001b[0m\u001b[0;34m,\u001b[0m \u001b[0mstruct\u001b[0m\u001b[0;34m,\u001b[0m \u001b[0munique\u001b[0m\u001b[0;34m=\u001b[0m\u001b[0;32mTrue\u001b[0m\u001b[0;34m)\u001b[0m\u001b[0;34m:\u001b[0m\u001b[0;34m\u001b[0m\u001b[0;34m\u001b[0m\u001b[0m\n",
      "\u001b[0;32m~/Code/RMG-Py/rmgpy/data/kinetics/family.py\u001b[0m in \u001b[0;36m_apply\u001b[0;34m(self, struct, forward, unique)\u001b[0m\n\u001b[1;32m    286\u001b[0m                     \u001b[0;31m# Find associated atoms\u001b[0m\u001b[0;34m\u001b[0m\u001b[0;34m\u001b[0m\u001b[0;34m\u001b[0m\u001b[0m\n\u001b[1;32m    287\u001b[0m                     \u001b[0matom1\u001b[0m \u001b[0;34m=\u001b[0m \u001b[0mstruct\u001b[0m\u001b[0;34m.\u001b[0m\u001b[0mget_labeled_atoms\u001b[0m\u001b[0;34m(\u001b[0m\u001b[0mlabel1\u001b[0m\u001b[0;34m)\u001b[0m\u001b[0;34m[\u001b[0m\u001b[0;36m0\u001b[0m\u001b[0;34m]\u001b[0m\u001b[0;34m\u001b[0m\u001b[0;34m\u001b[0m\u001b[0m\n\u001b[0;32m--> 288\u001b[0;31m                     \u001b[0matom2\u001b[0m \u001b[0;34m=\u001b[0m \u001b[0mstruct\u001b[0m\u001b[0;34m.\u001b[0m\u001b[0mget_labeled_atoms\u001b[0m\u001b[0;34m(\u001b[0m\u001b[0mlabel2\u001b[0m\u001b[0;34m)\u001b[0m\u001b[0;34m[\u001b[0m\u001b[0;36m0\u001b[0m\u001b[0;34m]\u001b[0m\u001b[0;34m\u001b[0m\u001b[0;34m\u001b[0m\u001b[0m\n\u001b[0m\u001b[1;32m    289\u001b[0m                 \u001b[0;32melse\u001b[0m\u001b[0;34m:\u001b[0m\u001b[0;34m\u001b[0m\u001b[0;34m\u001b[0m\u001b[0m\n\u001b[1;32m    290\u001b[0m                     \u001b[0matoms\u001b[0m \u001b[0;34m=\u001b[0m \u001b[0mstruct\u001b[0m\u001b[0;34m.\u001b[0m\u001b[0mget_labeled_atoms\u001b[0m\u001b[0;34m(\u001b[0m\u001b[0mlabel1\u001b[0m\u001b[0;34m)\u001b[0m  \u001b[0;31m# should never have more than two if this action is valid\u001b[0m\u001b[0;34m\u001b[0m\u001b[0;34m\u001b[0m\u001b[0m\n",
      "\u001b[0;32m~/Code/RMG-Py/rmgpy/molecule/molecule.cpython-37m-darwin.so\u001b[0m in \u001b[0;36mrmgpy.molecule.molecule.Molecule.get_labeled_atoms\u001b[0;34m()\u001b[0m\n",
      "\u001b[0;32m~/Code/RMG-Py/rmgpy/molecule/molecule.cpython-37m-darwin.so\u001b[0m in \u001b[0;36mrmgpy.molecule.molecule.Molecule.get_labeled_atoms\u001b[0;34m()\u001b[0m\n",
      "\u001b[0;31mValueError\u001b[0m: No atom in the molecule \nmultiplicity -187\n1 *4 X u0 p0 c0\n2 *4 X u0 p0 c0\n3 *1 O u0 p2 c0 {8,S}\n4 *2 C u0 p0 c0 {5,S} {6,S} {7,S}\n5    H u0 p0 c0 {4,S}\n6    H u0 p0 c0 {4,S}\n7    H u0 p0 c0 {4,S}\n8    H u0 p0 c0 {3,S}\n\n has the label \"*3\"."
     ]
    }
   ],
   "source": [
    "for rxn in lib:\n",
    "    reactants = [spcs.molecule[0] for spcs in rxn.reactants]\n",
    "    products = [spcs.molecule[0] for spcs in rxn.products]\n",
    "    \n",
    "    for f in families:\n",
    "        rxns = families[f].generate_reactions(reactants=reactants)\n",
    "        \n",
    "        for r in rxns:\n",
    "            if r.products == products:\n",
    "                print(f'{reactants} and {products} matches family {f}')\n",
    "#                 print(f'{r.products} matched {products}')\n",
    "#             if r.products.sort() == products.sort()\n",
    "#                 print(f'{} matched {}'.(r.products,products))"
   ]
  },
  {
   "cell_type": "code",
   "execution_count": null,
   "id": "cf2e79a7",
   "metadata": {},
   "outputs": [],
   "source": []
  },
  {
   "cell_type": "code",
   "execution_count": null,
   "id": "ba9854ce",
   "metadata": {},
   "outputs": [],
   "source": []
  }
 ],
 "metadata": {
  "kernelspec": {
   "display_name": "Python 3",
   "language": "python",
   "name": "python3"
  },
  "language_info": {
   "codemirror_mode": {
    "name": "ipython",
    "version": 3
   },
   "file_extension": ".py",
   "mimetype": "text/x-python",
   "name": "python",
   "nbconvert_exporter": "python",
   "pygments_lexer": "ipython3",
   "version": "3.7.10"
  }
 },
 "nbformat": 4,
 "nbformat_minor": 5
}
