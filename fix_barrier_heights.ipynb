{
 "cells": [
  {
   "cell_type": "code",
   "execution_count": 1,
   "id": "bdb0008b",
   "metadata": {},
   "outputs": [],
   "source": [
    "import rmgpy\n",
    "import rmg\n",
    "import numpy as np\n",
    "from rmgpy.data.rmg import RMGDatabase\n",
    "from rmgpy import settings\n",
    "from rmgpy.molecule import Molecule\n",
    "from rmgpy.species import Species\n",
    "from rmgpy.thermo.thermoengine import submit\n",
    "import os\n",
    "path = os.path.join(settings['database.directory'],'thermo')\n",
    "database = RMGDatabase()\n",
    "import matplotlib.pyplot as plt\n",
    "%matplotlib inline"
   ]
  },
  {
   "cell_type": "code",
   "execution_count": 2,
   "id": "083c01b2",
   "metadata": {},
   "outputs": [],
   "source": [
    "database.load_thermo(path=path,thermo_libraries=['primaryThermoLibrary','surfaceThermoPt111','thermo_DFT_CCSDTF12_BAC','DFT_QCI_thermo'],\n",
    "              surface=True)"
   ]
  },
  {
   "cell_type": "code",
   "execution_count": 3,
   "id": "a5649cdc",
   "metadata": {},
   "outputs": [],
   "source": [
    "deutschmann = rmgpy.chemkin.load_chemkin_file('deutschmann_pt_rmg_nocov.txt',\n",
    "                                dictionary_path='species_dictionary.txt',\n",
    "                                read_comments=False)\n",
    "species_rmg_dict = rmgpy.chemkin.load_species_dictionary('species_dictionary.txt')"
   ]
  },
  {
   "cell_type": "code",
   "execution_count": 4,
   "id": "36eff709",
   "metadata": {},
   "outputs": [],
   "source": [
    "deutschmann_rxns = deutschmann[1]"
   ]
  },
  {
   "cell_type": "code",
   "execution_count": 5,
   "id": "47569d62",
   "metadata": {},
   "outputs": [],
   "source": [
    "for reaction in deutschmann_rxns:\n",
    "    for s in reaction.reactants:\n",
    "        species_rmg_dict[s.label] = s\n",
    "    for s in reaction.products:\n",
    "        species_rmg_dict[s.label] = s"
   ]
  },
  {
   "cell_type": "code",
   "execution_count": 6,
   "id": "7ca0fdc4",
   "metadata": {},
   "outputs": [],
   "source": [
    "for label, species in species_rmg_dict.items():\n",
    "    submit(species)"
   ]
  },
  {
   "cell_type": "code",
   "execution_count": 25,
   "id": "f93a442d",
   "metadata": {},
   "outputs": [
    {
     "name": "stdout",
     "output_type": "stream",
     "text": [
      "X: Thermo library: surfaceThermoPt111\n",
      "CH4: Thermo library: primaryThermoLibrary\n",
      "O2: Thermo library: primaryThermoLibrary\n",
      "CO2: Thermo library: thermo_DFT_CCSDTF12_BAC\n",
      "H2O: Thermo library: primaryThermoLibrary\n",
      "H2: Thermo library: primaryThermoLibrary\n",
      "CO: Thermo library: primaryThermoLibrary\n",
      "OHX: Thermo library: surfaceThermoPt111\n",
      "CHX: Thermo library: surfaceThermoPt111\n",
      "HX: Thermo library: surfaceThermoPt111\n",
      "CO2X: Gas phase thermo for CO2 from Thermo library: thermo_DFT_CCSDTF12_BAC. Adsorption correction: + Thermo group additivity estimation: adsorptionPt111(R*vdW)\n",
      "H2OX: Thermo library: surfaceThermoPt111\n",
      "CH2X: Thermo library: surfaceThermoPt111\n",
      "CX: Thermo library: surfaceThermoPt111\n",
      "CH3X: Thermo library: surfaceThermoPt111\n",
      "COX: Thermo library: surfaceThermoPt111\n",
      "OX: Thermo library: surfaceThermoPt111\n"
     ]
    }
   ],
   "source": [
    "# where the thermo is coming from\n",
    "for label, species in species_rmg_dict.items():\n",
    "    print(f'{label}: {species.thermo.comment}')"
   ]
  },
  {
   "cell_type": "code",
   "execution_count": 11,
   "id": "c86867a1",
   "metadata": {},
   "outputs": [
    {
     "name": "stdout",
     "output_type": "stream",
     "text": [
      "Fixed R7: CO2 + X => CO2X\n",
      "StickingCoefficient(A=0.005, n=0, Ea=(26.4423,'kJ/mol'), T0=(1,'K'), coverage_dependence={}, comment=\"\"\"\n",
      "Ea raised from 0.0 to 26.4 kJ/mol to match endothermicity of reaction.\"\"\")\n",
      "\n",
      "Fixed R10: OX + OX => X + X + O2\n",
      "Arrhenius(A=(3.7e+21,'cm^3/(mol*s)'), n=0, Ea=(278.713,'kJ/mol'), T0=(1,'K'), comment=\"\"\"\n",
      "Ea raised from 235.5 to 278.7 kJ/mol to match endothermicity of reaction.\"\"\")\n",
      "\n",
      "Fixed R12: COX => X + CO\n",
      "Arrhenius(A=(1e+15,'s^-1'), n=0, Ea=(169.49,'kJ/mol'), T0=(1,'K'), comment=\"\"\"\n",
      "Ea raised from 146.0 to 169.5 kJ/mol to match endothermicity of reaction.\"\"\")\n",
      "\n",
      "Fixed R18: OHX + COX => HX + CO2X\n",
      "Arrhenius(A=(1e+19,'cm^3/(mol*s)'), n=0, Ea=(45.3394,'kJ/mol'), T0=(1,'K'), comment=\"\"\"\n",
      "Ea raised from 38.7 to 45.3 kJ/mol to match endothermicity of reaction.\"\"\")\n",
      "\n",
      "Fixed R23: HX + CHX => X + CH2X\n",
      "Arrhenius(A=(3.09e+22,'cm^3/(mol*s)'), n=0, Ea=(53.3615,'kJ/mol'), T0=(1,'K'), comment=\"\"\"\n",
      "Ea raised from 0.0 to 53.4 kJ/mol to match endothermicity of reaction.\"\"\")\n",
      "\n",
      "Fixed R24: X + CHX => HX + CX\n",
      "Arrhenius(A=(3.09e+22,'cm^3/(mol*s)'), n=0, Ea=(51.6632,'kJ/mol'), T0=(1,'K'), comment=\"\"\"\n",
      "Ea raised from 0.0 to 51.7 kJ/mol to match endothermicity of reaction.\"\"\")\n",
      "\n",
      "Fixed R30: OX + H2OX => OHX + OHX\n",
      "Arrhenius(A=(1e+20,'cm^3/(mol*s)'), n=0, Ea=(90.5058,'kJ/mol'), T0=(1,'K'), comment=\"\"\"\n",
      "Ea raised from 43.1 to 90.5 kJ/mol to match endothermicity of reaction.\"\"\")\n",
      "\n",
      "Fixed R32: CH2X => CX + H2\n",
      "Arrhenius(A=(7.69e+13,'s^-1'), n=0, Ea=(46.3416,'kJ/mol'), T0=(1,'K'), comment=\"\"\"\n",
      "Ea raised from 25.1 to 46.3 kJ/mol to match endothermicity of reaction.\"\"\")\n",
      "\n"
     ]
    }
   ],
   "source": [
    "for rxn in deutschmann_rxns:\n",
    "    rxn.fix_barrier_height()\n",
    "    if \"Ea raised\" in rxn.kinetics.comment:\n",
    "        print(f'Fixed R{rxn.index}: {rxn}\\n{rxn.kinetics}\\n')"
   ]
  },
  {
   "cell_type": "code",
   "execution_count": 26,
   "id": "8c8d64f7",
   "metadata": {},
   "outputs": [
    {
     "data": {
      "text/plain": [
       "StickingCoefficient(A=0.84, n=0, Ea=(0,'kJ/mol'), T0=(1,'K'), coverage_dependence={})"
      ]
     },
     "execution_count": 26,
     "metadata": {},
     "output_type": "execute_result"
    }
   ],
   "source": [
    "deutschmann_rxns[7].kinetics"
   ]
  },
  {
   "cell_type": "code",
   "execution_count": null,
   "id": "6ed5dcaf",
   "metadata": {},
   "outputs": [],
   "source": []
  },
  {
   "cell_type": "code",
   "execution_count": null,
   "id": "a7993fb2",
   "metadata": {},
   "outputs": [],
   "source": []
  }
 ],
 "metadata": {
  "kernelspec": {
   "display_name": "Python 3",
   "language": "python",
   "name": "python3"
  },
  "language_info": {
   "codemirror_mode": {
    "name": "ipython",
    "version": 3
   },
   "file_extension": ".py",
   "mimetype": "text/x-python",
   "name": "python",
   "nbconvert_exporter": "python",
   "pygments_lexer": "ipython3",
   "version": "3.7.7"
  }
 },
 "nbformat": 4,
 "nbformat_minor": 5
}
