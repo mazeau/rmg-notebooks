{
 "cells": [
  {
   "cell_type": "code",
   "execution_count": 1,
   "metadata": {},
   "outputs": [],
   "source": [
    "import rmgpy\n",
    "import rmg\n",
    "from rmgpy.data.rmg import RMGDatabase\n",
    "from rmgpy import settings\n",
    "from rmgpy.molecule import Molecule\n",
    "from rmgpy.species import Species\n",
    "from rmgpy.thermo.thermoengine import submit\n",
    "import os\n",
    "path = os.path.join(settings['database.directory'],'thermo')\n",
    "database = RMGDatabase()"
   ]
  },
  {
   "cell_type": "code",
   "execution_count": 2,
   "metadata": {},
   "outputs": [],
   "source": [
    "database.load_thermo(path=path,thermo_libraries=['primaryThermoLibrary','surfaceThermoPt111','thermo_DFT_CCSDTF12_BAC','DFT_QCI_thermo'],\n",
    "              surface=True)"
   ]
  },
  {
   "cell_type": "code",
   "execution_count": 3,
   "metadata": {},
   "outputs": [],
   "source": [
    "deutschmann = rmgpy.chemkin.load_chemkin_file('deutschmann_pt_rmg_nocov.txt',\n",
    "                                thermo_path='deutschmann_pt_thermo.txt',\n",
    "                                dictionary_path='species_dictionary.txt',\n",
    "                                read_comments=False)"
   ]
  },
  {
   "cell_type": "code",
   "execution_count": 4,
   "metadata": {},
   "outputs": [],
   "source": [
    "deutschmann_rxns = deutschmann[1]\n",
    "species_dict = rmgpy.chemkin.load_species_dictionary('species_dictionary.txt')"
   ]
  },
  {
   "cell_type": "code",
   "execution_count": 13,
   "metadata": {},
   "outputs": [
    {
     "data": {
      "text/plain": [
       "([],\n",
       " [LibraryReaction(index=1, reactants=[Species(label=\"H2\", molecule=[Molecule(smiles=\"[H][H]\")], molecular_weight=(2.01594,'amu')), Species(label=\"X\", molecule=[Molecule(smiles=\"[Pt]\")], molecular_weight=(0,'amu')), Species(label=\"X\", molecule=[Molecule(smiles=\"[Pt]\")], molecular_weight=(0,'amu'))], products=[Species(label=\"HX\", molecule=[Molecule(smiles=\"[Pt]\")], molecular_weight=(1.00797,'amu')), Species(label=\"HX\", molecule=[Molecule(smiles=\"[Pt]\")], molecular_weight=(1.00797,'amu'))], kinetics=StickingCoefficient(A=0.046, n=0, Ea=(0,'kJ/mol'), T0=(1,'K'), coverage_dependence={}), reversible=False),\n",
       "  LibraryReaction(index=2, reactants=[Species(label=\"X\", molecule=[Molecule(smiles=\"[Pt]\")], molecular_weight=(0,'amu')), Species(label=\"X\", molecule=[Molecule(smiles=\"[Pt]\")], molecular_weight=(0,'amu')), Species(label=\"O2\", molecule=[Molecule(smiles=\"[O][O]\")], molecular_weight=(31.9988,'amu'))], products=[Species(label=\"OX\", molecule=[Molecule(smiles=\"O=[Pt]\")], molecular_weight=(15.9994,'amu')), Species(label=\"OX\", molecule=[Molecule(smiles=\"O=[Pt]\")], molecular_weight=(15.9994,'amu'))], kinetics=Arrhenius(A=(1.891e+21,'cm^6/(mol^2*s)'), n=-0.5, Ea=(0,'kJ/mol'), T0=(1,'K')), reversible=False),\n",
       "  LibraryReaction(index=3, reactants=[Species(label=\"CH4\", molecule=[Molecule(smiles=\"C\")], molecular_weight=(16.0425,'amu')), Species(label=\"X\", molecule=[Molecule(smiles=\"[Pt]\")], molecular_weight=(0,'amu')), Species(label=\"X\", molecule=[Molecule(smiles=\"[Pt]\")], molecular_weight=(0,'amu'))], products=[Species(label=\"HX\", molecule=[Molecule(smiles=\"[Pt]\")], molecular_weight=(1.00797,'amu')), Species(label=\"CH3X\", molecule=[Molecule(smiles=\"C[Pt]\")], molecular_weight=(15.0346,'amu'))], kinetics=StickingCoefficient(A=0.0009, n=0, Ea=(72,'kJ/mol'), T0=(1,'K'), coverage_dependence={}), reversible=False),\n",
       "  LibraryReaction(index=4, reactants=[Species(label=\"X\", molecule=[Molecule(smiles=\"[Pt]\")], molecular_weight=(0,'amu')), Species(label=\"OX\", molecule=[Molecule(smiles=\"O=[Pt]\")], molecular_weight=(15.9994,'amu')), Species(label=\"CH4\", molecule=[Molecule(smiles=\"C\")], molecular_weight=(16.0425,'amu'))], products=[Species(label=\"OHX\", molecule=[Molecule(smiles=\"O[Pt]\")], molecular_weight=(17.0074,'amu')), Species(label=\"CH3X\", molecule=[Molecule(smiles=\"C[Pt]\")], molecular_weight=(15.0346,'amu'))], kinetics=Arrhenius(A=(5e+18,'cm^6/(mol^2*s)'), n=0.7, Ea=(42,'kJ/mol'), T0=(1,'K')), reversible=False),\n",
       "  LibraryReaction(index=5, reactants=[Species(label=\"CH4\", molecule=[Molecule(smiles=\"C\")], molecular_weight=(16.0425,'amu')), Species(label=\"OHX\", molecule=[Molecule(smiles=\"O[Pt]\")], molecular_weight=(17.0074,'amu')), Species(label=\"X\", molecule=[Molecule(smiles=\"[Pt]\")], molecular_weight=(0,'amu'))], products=[Species(label=\"H2OX\", molecule=[Molecule(smiles=\"O.[Pt]\")], molecular_weight=(18.0153,'amu')), Species(label=\"CH3X\", molecule=[Molecule(smiles=\"C[Pt]\")], molecular_weight=(15.0346,'amu'))], kinetics=StickingCoefficient(A=1, n=0, Ea=(10,'kJ/mol'), T0=(1,'K'), coverage_dependence={}), reversible=False),\n",
       "  LibraryReaction(index=6, reactants=[Species(label=\"H2O\", molecule=[Molecule(smiles=\"O\")], molecular_weight=(18.0153,'amu')), Species(label=\"X\", molecule=[Molecule(smiles=\"[Pt]\")], molecular_weight=(0,'amu'))], products=[Species(label=\"H2OX\", molecule=[Molecule(smiles=\"O.[Pt]\")], molecular_weight=(18.0153,'amu'))], kinetics=StickingCoefficient(A=0.75, n=0, Ea=(0,'kJ/mol'), T0=(1,'K'), coverage_dependence={}), reversible=False),\n",
       "  LibraryReaction(index=7, reactants=[Species(label=\"CO2\", molecule=[Molecule(smiles=\"O=C=O\")], molecular_weight=(44.0094,'amu')), Species(label=\"X\", molecule=[Molecule(smiles=\"[Pt]\")], molecular_weight=(0,'amu'))], products=[Species(label=\"CO2X\", molecule=[Molecule(smiles=\"O=C=O.[Pt]\")], molecular_weight=(44.0094,'amu'))], kinetics=StickingCoefficient(A=0.005, n=0, Ea=(0,'kJ/mol'), T0=(1,'K'), coverage_dependence={}), reversible=False),\n",
       "  LibraryReaction(index=8, reactants=[Species(label=\"CO\", molecule=[Molecule(smiles=\"[C-]#[O+]\")], molecular_weight=(28.01,'amu')), Species(label=\"X\", molecule=[Molecule(smiles=\"[Pt]\")], molecular_weight=(0,'amu'))], products=[Species(label=\"COX\", molecule=[Molecule(smiles=\"O=C=[Pt]\")], molecular_weight=(28.01,'amu'))], kinetics=StickingCoefficient(A=0.84, n=0, Ea=(0,'kJ/mol'), T0=(1,'K'), coverage_dependence={}), reversible=False),\n",
       "  LibraryReaction(index=9, reactants=[Species(label=\"HX\", molecule=[Molecule(smiles=\"[Pt]\")], molecular_weight=(1.00797,'amu')), Species(label=\"HX\", molecule=[Molecule(smiles=\"[Pt]\")], molecular_weight=(1.00797,'amu'))], products=[Species(label=\"X\", molecule=[Molecule(smiles=\"[Pt]\")], molecular_weight=(0,'amu')), Species(label=\"X\", molecule=[Molecule(smiles=\"[Pt]\")], molecular_weight=(0,'amu')), Species(label=\"H2\", molecule=[Molecule(smiles=\"[H][H]\")], molecular_weight=(2.01594,'amu'))], kinetics=Arrhenius(A=(3.7e+21,'cm^3/(mol*s)'), n=0, Ea=(67.4,'kJ/mol'), T0=(1,'K')), reversible=False),\n",
       "  LibraryReaction(index=10, reactants=[Species(label=\"OX\", molecule=[Molecule(smiles=\"O=[Pt]\")], molecular_weight=(15.9994,'amu')), Species(label=\"OX\", molecule=[Molecule(smiles=\"O=[Pt]\")], molecular_weight=(15.9994,'amu'))], products=[Species(label=\"X\", molecule=[Molecule(smiles=\"[Pt]\")], molecular_weight=(0,'amu')), Species(label=\"X\", molecule=[Molecule(smiles=\"[Pt]\")], molecular_weight=(0,'amu')), Species(label=\"O2\", molecule=[Molecule(smiles=\"[O][O]\")], molecular_weight=(31.9988,'amu'))], kinetics=Arrhenius(A=(3.7e+21,'cm^3/(mol*s)'), n=0, Ea=(235.5,'kJ/mol'), T0=(1,'K')), reversible=False),\n",
       "  LibraryReaction(index=11, reactants=[Species(label=\"H2OX\", molecule=[Molecule(smiles=\"O.[Pt]\")], molecular_weight=(18.0153,'amu'))], products=[Species(label=\"X\", molecule=[Molecule(smiles=\"[Pt]\")], molecular_weight=(0,'amu')), Species(label=\"H2O\", molecule=[Molecule(smiles=\"O\")], molecular_weight=(18.0153,'amu'))], kinetics=Arrhenius(A=(4.5e+12,'s^-1'), n=0, Ea=(41.8,'kJ/mol'), T0=(1,'K')), reversible=False),\n",
       "  LibraryReaction(index=12, reactants=[Species(label=\"COX\", molecule=[Molecule(smiles=\"O=C=[Pt]\")], molecular_weight=(28.01,'amu'))], products=[Species(label=\"X\", molecule=[Molecule(smiles=\"[Pt]\")], molecular_weight=(0,'amu')), Species(label=\"CO\", molecule=[Molecule(smiles=\"[C-]#[O+]\")], molecular_weight=(28.01,'amu'))], kinetics=Arrhenius(A=(1e+15,'s^-1'), n=0, Ea=(146,'kJ/mol'), T0=(1,'K')), reversible=False),\n",
       "  LibraryReaction(index=13, reactants=[Species(label=\"CO2X\", molecule=[Molecule(smiles=\"O=C=O.[Pt]\")], molecular_weight=(44.0094,'amu'))], products=[Species(label=\"X\", molecule=[Molecule(smiles=\"[Pt]\")], molecular_weight=(0,'amu')), Species(label=\"CO2\", molecule=[Molecule(smiles=\"O=C=O\")], molecular_weight=(44.0094,'amu'))], kinetics=Arrhenius(A=(1e+13,'s^-1'), n=0, Ea=(27.07,'kJ/mol'), T0=(1,'K')), reversible=False),\n",
       "  LibraryReaction(index=14, reactants=[Species(label=\"OX\", molecule=[Molecule(smiles=\"O=[Pt]\")], molecular_weight=(15.9994,'amu')), Species(label=\"CX\", molecule=[Molecule(smiles=\"C~[Pt]\")], molecular_weight=(12.0106,'amu'))], products=[Species(label=\"X\", molecule=[Molecule(smiles=\"[Pt]\")], molecular_weight=(0,'amu')), Species(label=\"COX\", molecule=[Molecule(smiles=\"O=C=[Pt]\")], molecular_weight=(28.01,'amu'))], kinetics=Arrhenius(A=(3.7e+19,'cm^3/(mol*s)'), n=0, Ea=(0,'kJ/mol'), T0=(1,'K')), reversible=False),\n",
       "  LibraryReaction(index=15, reactants=[Species(label=\"X\", molecule=[Molecule(smiles=\"[Pt]\")], molecular_weight=(0,'amu')), Species(label=\"COX\", molecule=[Molecule(smiles=\"O=C=[Pt]\")], molecular_weight=(28.01,'amu'))], products=[Species(label=\"OX\", molecule=[Molecule(smiles=\"O=[Pt]\")], molecular_weight=(15.9994,'amu')), Species(label=\"CX\", molecule=[Molecule(smiles=\"C~[Pt]\")], molecular_weight=(12.0106,'amu'))], kinetics=Arrhenius(A=(3.7e+19,'cm^3/(mol*s)'), n=0, Ea=(236.5,'kJ/mol'), T0=(1,'K')), reversible=False),\n",
       "  LibraryReaction(index=16, reactants=[Species(label=\"OX\", molecule=[Molecule(smiles=\"O=[Pt]\")], molecular_weight=(15.9994,'amu')), Species(label=\"COX\", molecule=[Molecule(smiles=\"O=C=[Pt]\")], molecular_weight=(28.01,'amu'))], products=[Species(label=\"X\", molecule=[Molecule(smiles=\"[Pt]\")], molecular_weight=(0,'amu')), Species(label=\"CO2X\", molecule=[Molecule(smiles=\"O=C=O.[Pt]\")], molecular_weight=(44.0094,'amu'))], kinetics=Arrhenius(A=(3.7e+21,'cm^3/(mol*s)'), n=0, Ea=(117.6,'kJ/mol'), T0=(1,'K')), reversible=False),\n",
       "  LibraryReaction(index=17, reactants=[Species(label=\"X\", molecule=[Molecule(smiles=\"[Pt]\")], molecular_weight=(0,'amu')), Species(label=\"CO2X\", molecule=[Molecule(smiles=\"O=C=O.[Pt]\")], molecular_weight=(44.0094,'amu'))], products=[Species(label=\"OX\", molecule=[Molecule(smiles=\"O=[Pt]\")], molecular_weight=(15.9994,'amu')), Species(label=\"COX\", molecule=[Molecule(smiles=\"O=C=[Pt]\")], molecular_weight=(28.01,'amu'))], kinetics=Arrhenius(A=(3.7e+19,'cm^3/(mol*s)'), n=0, Ea=(173.3,'kJ/mol'), T0=(1,'K')), reversible=False),\n",
       "  LibraryReaction(index=18, reactants=[Species(label=\"OHX\", molecule=[Molecule(smiles=\"O[Pt]\")], molecular_weight=(17.0074,'amu')), Species(label=\"COX\", molecule=[Molecule(smiles=\"O=C=[Pt]\")], molecular_weight=(28.01,'amu'))], products=[Species(label=\"HX\", molecule=[Molecule(smiles=\"[Pt]\")], molecular_weight=(1.00797,'amu')), Species(label=\"CO2X\", molecule=[Molecule(smiles=\"O=C=O.[Pt]\")], molecular_weight=(44.0094,'amu'))], kinetics=Arrhenius(A=(1e+19,'cm^3/(mol*s)'), n=0, Ea=(38.7,'kJ/mol'), T0=(1,'K')), reversible=False),\n",
       "  LibraryReaction(index=19, reactants=[Species(label=\"HX\", molecule=[Molecule(smiles=\"[Pt]\")], molecular_weight=(1.00797,'amu')), Species(label=\"CO2X\", molecule=[Molecule(smiles=\"O=C=O.[Pt]\")], molecular_weight=(44.0094,'amu'))], products=[Species(label=\"OHX\", molecule=[Molecule(smiles=\"O[Pt]\")], molecular_weight=(17.0074,'amu')), Species(label=\"COX\", molecule=[Molecule(smiles=\"O=C=[Pt]\")], molecular_weight=(28.01,'amu'))], kinetics=Arrhenius(A=(1e+19,'cm^3/(mol*s)'), n=0, Ea=(8.4,'kJ/mol'), T0=(1,'K')), reversible=False),\n",
       "  LibraryReaction(index=20, reactants=[Species(label=\"X\", molecule=[Molecule(smiles=\"[Pt]\")], molecular_weight=(0,'amu')), Species(label=\"CH3X\", molecule=[Molecule(smiles=\"C[Pt]\")], molecular_weight=(15.0346,'amu'))], products=[Species(label=\"HX\", molecule=[Molecule(smiles=\"[Pt]\")], molecular_weight=(1.00797,'amu')), Species(label=\"CH2X\", molecule=[Molecule(smiles=\"C=[Pt]\")], molecular_weight=(14.0266,'amu'))], kinetics=Arrhenius(A=(1.262e+22,'cm^3/(mol*s)'), n=0, Ea=(70.3,'kJ/mol'), T0=(1,'K')), reversible=False),\n",
       "  LibraryReaction(index=21, reactants=[Species(label=\"HX\", molecule=[Molecule(smiles=\"[Pt]\")], molecular_weight=(1.00797,'amu')), Species(label=\"CH2X\", molecule=[Molecule(smiles=\"C=[Pt]\")], molecular_weight=(14.0266,'amu'))], products=[Species(label=\"X\", molecule=[Molecule(smiles=\"[Pt]\")], molecular_weight=(0,'amu')), Species(label=\"CH3X\", molecule=[Molecule(smiles=\"C[Pt]\")], molecular_weight=(15.0346,'amu'))], kinetics=Arrhenius(A=(3.09e+22,'cm^3/(mol*s)'), n=0, Ea=(0,'kJ/mol'), T0=(1,'K')), reversible=False),\n",
       "  LibraryReaction(index=22, reactants=[Species(label=\"X\", molecule=[Molecule(smiles=\"[Pt]\")], molecular_weight=(0,'amu')), Species(label=\"CH2X\", molecule=[Molecule(smiles=\"C=[Pt]\")], molecular_weight=(14.0266,'amu'))], products=[Species(label=\"HX\", molecule=[Molecule(smiles=\"[Pt]\")], molecular_weight=(1.00797,'amu')), Species(label=\"CHX\", molecule=[Molecule(smiles=\"C#[Pt]\")], molecular_weight=(13.0186,'amu'))], kinetics=Arrhenius(A=(7.314e+22,'cm^3/(mol*s)'), n=0, Ea=(58.9,'kJ/mol'), T0=(1,'K')), reversible=False),\n",
       "  LibraryReaction(index=23, reactants=[Species(label=\"HX\", molecule=[Molecule(smiles=\"[Pt]\")], molecular_weight=(1.00797,'amu')), Species(label=\"CHX\", molecule=[Molecule(smiles=\"C#[Pt]\")], molecular_weight=(13.0186,'amu'))], products=[Species(label=\"X\", molecule=[Molecule(smiles=\"[Pt]\")], molecular_weight=(0,'amu')), Species(label=\"CH2X\", molecule=[Molecule(smiles=\"C=[Pt]\")], molecular_weight=(14.0266,'amu'))], kinetics=Arrhenius(A=(3.09e+22,'cm^3/(mol*s)'), n=0, Ea=(0,'kJ/mol'), T0=(1,'K')), reversible=False),\n",
       "  LibraryReaction(index=24, reactants=[Species(label=\"X\", molecule=[Molecule(smiles=\"[Pt]\")], molecular_weight=(0,'amu')), Species(label=\"CHX\", molecule=[Molecule(smiles=\"C#[Pt]\")], molecular_weight=(13.0186,'amu'))], products=[Species(label=\"HX\", molecule=[Molecule(smiles=\"[Pt]\")], molecular_weight=(1.00797,'amu')), Species(label=\"CX\", molecule=[Molecule(smiles=\"C~[Pt]\")], molecular_weight=(12.0106,'amu'))], kinetics=Arrhenius(A=(3.09e+22,'cm^3/(mol*s)'), n=0, Ea=(0,'kJ/mol'), T0=(1,'K')), reversible=False),\n",
       "  LibraryReaction(index=25, reactants=[Species(label=\"HX\", molecule=[Molecule(smiles=\"[Pt]\")], molecular_weight=(1.00797,'amu')), Species(label=\"CX\", molecule=[Molecule(smiles=\"C~[Pt]\")], molecular_weight=(12.0106,'amu'))], products=[Species(label=\"X\", molecule=[Molecule(smiles=\"[Pt]\")], molecular_weight=(0,'amu')), Species(label=\"CHX\", molecule=[Molecule(smiles=\"C#[Pt]\")], molecular_weight=(13.0186,'amu'))], kinetics=Arrhenius(A=(1.248e+22,'cm^3/(mol*s)'), n=0, Ea=(138,'kJ/mol'), T0=(1,'K')), reversible=False),\n",
       "  LibraryReaction(index=26, reactants=[Species(label=\"OX\", molecule=[Molecule(smiles=\"O=[Pt]\")], molecular_weight=(15.9994,'amu')), Species(label=\"HX\", molecule=[Molecule(smiles=\"[Pt]\")], molecular_weight=(1.00797,'amu'))], products=[Species(label=\"X\", molecule=[Molecule(smiles=\"[Pt]\")], molecular_weight=(0,'amu')), Species(label=\"OHX\", molecule=[Molecule(smiles=\"O[Pt]\")], molecular_weight=(17.0074,'amu'))], kinetics=Arrhenius(A=(1.28e+21,'cm^3/(mol*s)'), n=0, Ea=(11.2,'kJ/mol'), T0=(1,'K')), reversible=False),\n",
       "  LibraryReaction(index=27, reactants=[Species(label=\"X\", molecule=[Molecule(smiles=\"[Pt]\")], molecular_weight=(0,'amu')), Species(label=\"OHX\", molecule=[Molecule(smiles=\"O[Pt]\")], molecular_weight=(17.0074,'amu'))], products=[Species(label=\"OX\", molecule=[Molecule(smiles=\"O=[Pt]\")], molecular_weight=(15.9994,'amu')), Species(label=\"HX\", molecule=[Molecule(smiles=\"[Pt]\")], molecular_weight=(1.00797,'amu'))], kinetics=Arrhenius(A=(7.39e+19,'cm^3/(mol*s)'), n=0, Ea=(77.3,'kJ/mol'), T0=(1,'K')), reversible=False),\n",
       "  LibraryReaction(index=28, reactants=[Species(label=\"X\", molecule=[Molecule(smiles=\"[Pt]\")], molecular_weight=(0,'amu')), Species(label=\"H2OX\", molecule=[Molecule(smiles=\"O.[Pt]\")], molecular_weight=(18.0153,'amu'))], products=[Species(label=\"OHX\", molecule=[Molecule(smiles=\"O[Pt]\")], molecular_weight=(17.0074,'amu')), Species(label=\"HX\", molecule=[Molecule(smiles=\"[Pt]\")], molecular_weight=(1.00797,'amu'))], kinetics=Arrhenius(A=(1.15e+19,'cm^3/(mol*s)'), n=0, Ea=(101.4,'kJ/mol'), T0=(1,'K')), reversible=False),\n",
       "  LibraryReaction(index=29, reactants=[Species(label=\"OHX\", molecule=[Molecule(smiles=\"O[Pt]\")], molecular_weight=(17.0074,'amu')), Species(label=\"OHX\", molecule=[Molecule(smiles=\"O[Pt]\")], molecular_weight=(17.0074,'amu'))], products=[Species(label=\"OX\", molecule=[Molecule(smiles=\"O=[Pt]\")], molecular_weight=(15.9994,'amu')), Species(label=\"H2OX\", molecule=[Molecule(smiles=\"O.[Pt]\")], molecular_weight=(18.0153,'amu'))], kinetics=Arrhenius(A=(7.4e+20,'cm^3/(mol*s)'), n=0, Ea=(74,'kJ/mol'), T0=(1,'K')), reversible=False),\n",
       "  LibraryReaction(index=30, reactants=[Species(label=\"OX\", molecule=[Molecule(smiles=\"O=[Pt]\")], molecular_weight=(15.9994,'amu')), Species(label=\"H2OX\", molecule=[Molecule(smiles=\"O.[Pt]\")], molecular_weight=(18.0153,'amu'))], products=[Species(label=\"OHX\", molecule=[Molecule(smiles=\"O[Pt]\")], molecular_weight=(17.0074,'amu')), Species(label=\"OHX\", molecule=[Molecule(smiles=\"O[Pt]\")], molecular_weight=(17.0074,'amu'))], kinetics=Arrhenius(A=(1e+20,'cm^3/(mol*s)'), n=0, Ea=(43.1,'kJ/mol'), T0=(1,'K')), reversible=False),\n",
       "  LibraryReaction(index=31, reactants=[Species(label=\"H2\", molecule=[Molecule(smiles=\"[H][H]\")], molecular_weight=(2.01594,'amu')), Species(label=\"CX\", molecule=[Molecule(smiles=\"C~[Pt]\")], molecular_weight=(12.0106,'amu'))], products=[Species(label=\"CH2X\", molecule=[Molecule(smiles=\"C=[Pt]\")], molecular_weight=(14.0266,'amu'))], kinetics=StickingCoefficient(A=0.04, n=0, Ea=(29.7,'kJ/mol'), T0=(1,'K'), coverage_dependence={}), reversible=False),\n",
       "  LibraryReaction(index=32, reactants=[Species(label=\"CH2X\", molecule=[Molecule(smiles=\"C=[Pt]\")], molecular_weight=(14.0266,'amu'))], products=[Species(label=\"CX\", molecule=[Molecule(smiles=\"C~[Pt]\")], molecular_weight=(12.0106,'amu')), Species(label=\"H2\", molecule=[Molecule(smiles=\"[H][H]\")], molecular_weight=(2.01594,'amu'))], kinetics=Arrhenius(A=(7.69e+13,'s^-1'), n=0, Ea=(25.1,'kJ/mol'), T0=(1,'K')), reversible=False),\n",
       "  LibraryReaction(index=33, reactants=[Species(label=\"OHX\", molecule=[Molecule(smiles=\"O[Pt]\")], molecular_weight=(17.0074,'amu')), Species(label=\"HX\", molecule=[Molecule(smiles=\"[Pt]\")], molecular_weight=(1.00797,'amu'))], products=[Species(label=\"X\", molecule=[Molecule(smiles=\"[Pt]\")], molecular_weight=(0,'amu')), Species(label=\"H2OX\", molecule=[Molecule(smiles=\"O.[Pt]\")], molecular_weight=(18.0153,'amu'))], kinetics=Arrhenius(A=(2.04e+21,'cm^3/(mol*s)'), n=0, Ea=(66.22,'kJ/mol'), T0=(1,'K')), reversible=False),\n",
       "  LibraryReaction(index=34, reactants=[Species(label=\"HX\", molecule=[Molecule(smiles=\"[Pt]\")], molecular_weight=(1.00797,'amu')), Species(label=\"CH3X\", molecule=[Molecule(smiles=\"C[Pt]\")], molecular_weight=(15.0346,'amu'))], products=[Species(label=\"X\", molecule=[Molecule(smiles=\"[Pt]\")], molecular_weight=(0,'amu')), Species(label=\"X\", molecule=[Molecule(smiles=\"[Pt]\")], molecular_weight=(0,'amu')), Species(label=\"CH4\", molecule=[Molecule(smiles=\"C\")], molecular_weight=(16.0425,'amu'))], kinetics=Arrhenius(A=(3.3e+21,'cm^3/(mol*s)'), n=0, Ea=(50,'kJ/mol'), T0=(1,'K')), reversible=False),\n",
       "  LibraryReaction(index=35, reactants=[Species(label=\"H2OX\", molecule=[Molecule(smiles=\"O.[Pt]\")], molecular_weight=(18.0153,'amu')), Species(label=\"CH3X\", molecule=[Molecule(smiles=\"C[Pt]\")], molecular_weight=(15.0346,'amu'))], products=[Species(label=\"X\", molecule=[Molecule(smiles=\"[Pt]\")], molecular_weight=(0,'amu')), Species(label=\"OHX\", molecule=[Molecule(smiles=\"O[Pt]\")], molecular_weight=(17.0074,'amu')), Species(label=\"CH4\", molecule=[Molecule(smiles=\"C\")], molecular_weight=(16.0425,'amu'))], kinetics=Arrhenius(A=(3.7e+21,'cm^3/(mol*s)'), n=0, Ea=(110.6,'kJ/mol'), T0=(1,'K')), reversible=False),\n",
       "  LibraryReaction(index=36, reactants=[Species(label=\"OHX\", molecule=[Molecule(smiles=\"O[Pt]\")], molecular_weight=(17.0074,'amu')), Species(label=\"CH3X\", molecule=[Molecule(smiles=\"C[Pt]\")], molecular_weight=(15.0346,'amu'))], products=[Species(label=\"X\", molecule=[Molecule(smiles=\"[Pt]\")], molecular_weight=(0,'amu')), Species(label=\"OX\", molecule=[Molecule(smiles=\"O=[Pt]\")], molecular_weight=(15.9994,'amu')), Species(label=\"CH4\", molecule=[Molecule(smiles=\"C\")], molecular_weight=(16.0425,'amu'))], kinetics=Arrhenius(A=(3.7e+21,'cm^3/(mol*s)'), n=0, Ea=(87.9,'kJ/mol'), T0=(1,'K')), reversible=False)])"
      ]
     },
     "execution_count": 13,
     "metadata": {},
     "output_type": "execute_result"
    }
   ],
   "source": [
    "deutschmann"
   ]
  },
  {
   "cell_type": "code",
   "execution_count": 100,
   "metadata": {},
   "outputs": [],
   "source": [
    "for label, species in species_dict.items():\n",
    "    submit(species)"
   ]
  },
  {
   "cell_type": "code",
   "execution_count": 102,
   "metadata": {},
   "outputs": [
    {
     "data": {
      "text/plain": [
       "<bound method Species.get_enthalpy of Species(label=\"H2\", thermo=NASA(polynomials=[NASAPolynomial(coeffs=[3.43536,0.00021271,-2.78625e-07,3.40267e-10,-7.76032e-14,-1031.36,-3.90842], Tmin=(100,'K'), Tmax=(1959.08,'K')), NASAPolynomial(coeffs=[2.78817,0.000587641,1.5901e-07,-5.52739e-11,4.34311e-15,-596.144,0.112733], Tmin=(1959.08,'K'), Tmax=(5000,'K'))], Tmin=(100,'K'), Tmax=(5000,'K'), E0=(-8.60349,'kJ/mol'), Cp0=(29.1007,'J/(mol*K)'), CpInf=(37.4151,'J/(mol*K)'), label=\"\"\"H2\"\"\", comment=\"\"\"Thermo library: primaryThermoLibrary\"\"\"), conformer=Conformer(E0=(-8.60349,'kJ/mol'), modes=[]), molecule=[Molecule(smiles=\"[H][H]\")], molecular_weight=(2.01594,'amu'))>"
      ]
     },
     "execution_count": 102,
     "metadata": {},
     "output_type": "execute_result"
    }
   ],
   "source": [
    "species_dict['H2'].get_enthalpy"
   ]
  },
  {
   "cell_type": "code",
   "execution_count": 103,
   "metadata": {},
   "outputs": [],
   "source": [
    "import matplotlib.pyplot as plt"
   ]
  },
  {
   "cell_type": "code",
   "execution_count": null,
   "metadata": {},
   "outputs": [],
   "source": [
    "def thermo_comparison_plots():\n",
    "    f = plt.figure(figsize=(14,4))\n",
    "    ax = f.add_subplot(131)\n",
    "    ax2 = f.add_subplot(132)\n",
    "    ax3 = f.add_subplot(133)\n",
    "    ax.plot(T_Deut, Cp_R_Deut2, label='Deutschmann')\n",
    "    ax.plot(T_RMG2, Cp_R_RMG2, label='RMG generated')\n",
    "\n",
    "    ax2.plot(T_Deut, H_RT_Deut2, label='Deutschmann')\n",
    "    ax2.plot(T_RMG2, H_RT_RMG2, label='RMG generated')\n",
    "    ax3.plot(T_Deut, S_R_Deut2, label='Deutschmann')\n",
    "    ax3.plot(T_RMG2, S_R_RMG2, label='RMG generated')\n",
    "\n",
    "    ax.set_xlabel('T (K)')\n",
    "    ax.set_ylabel('Cp/R')\n",
    "    ax.legend(loc='best')\n",
    "\n",
    "    ax2.set_xlabel('T (K)')\n",
    "    ax2.set_ylabel('H/RT')\n",
    "    ax2.legend(loc='best')\n",
    "\n",
    "    ax3.set_xlabel('T (K)')\n",
    "    ax3.set_ylabel('S/R')\n",
    "    ax3.legend(loc='best')\n",
    "\n",
    "    ax2.set_title('For adsorbed HO')"
   ]
  },
  {
   "cell_type": "code",
   "execution_count": null,
   "metadata": {},
   "outputs": [],
   "source": []
  },
  {
   "cell_type": "code",
   "execution_count": null,
   "metadata": {},
   "outputs": [],
   "source": []
  },
  {
   "cell_type": "code",
   "execution_count": 97,
   "metadata": {},
   "outputs": [
    {
     "ename": "Exception",
     "evalue": "Unable to calculate enthalpy for species 'H2': no thermo or statmech data available.",
     "output_type": "error",
     "traceback": [
      "\u001b[0;31m---------------------------------------------------------------------------\u001b[0m",
      "\u001b[0;31mException\u001b[0m                                 Traceback (most recent call last)",
      "\u001b[0;32m~/Code/RMG-Py/rmgpy/species.cpython-37m-darwin.so\u001b[0m in \u001b[0;36mrmgpy.species.Species.get_enthalpy\u001b[0;34m()\u001b[0m\n",
      "\u001b[0;31mException\u001b[0m: Unable to calculate enthalpy for species 'H2': no thermo or statmech data available."
     ]
    },
    {
     "name": "stderr",
     "output_type": "stream",
     "text": [
      "Exception ignored in: 'rmgpy.reaction.Reaction.get_enthalpy_of_reaction'\n",
      "Traceback (most recent call last):\n",
      "  File \"rmgpy/species.py\", line 495, in rmgpy.species.Species.get_enthalpy\n",
      "Exception: Unable to calculate enthalpy for species 'H2': no thermo or statmech data available.\n"
     ]
    },
    {
     "data": {
      "text/plain": [
       "0.0"
      ]
     },
     "execution_count": 97,
     "metadata": {},
     "output_type": "execute_result"
    }
   ],
   "source": [
    "deutschmann_rxns[0].get_enthalpy_of_reaction(298)"
   ]
  },
  {
   "cell_type": "code",
   "execution_count": 6,
   "metadata": {},
   "outputs": [],
   "source": [
    "import numpy as np\n",
    "def NASAfun(coeff, T):\n",
    "    a1, a2, a3, a4, a5, a6, a7 = coeff\n",
    "    Cp_R = a1 + a2*T + a3*T**2 + a4*T**3 + a5*T**4\n",
    "    H_RT = a1 + a2*T/2.0 + a3*T**2/3.0 + a4*T**3/4.0 + a5*T**4/5.0 + a6/T\n",
    "    S_R  = a1*np.log(T) + a2*T + a3*T**2/2.0 + a4*T**3/3.0 + a5*T**4/4.0 + a7\n",
    "    return Cp_R, H_RT, S_R"
   ]
  },
  {
   "cell_type": "code",
   "execution_count": null,
   "metadata": {},
   "outputs": [],
   "source": []
  }
 ],
 "metadata": {
  "kernelspec": {
   "display_name": "Python 3",
   "language": "python",
   "name": "python3"
  },
  "language_info": {
   "codemirror_mode": {
    "name": "ipython",
    "version": 3
   },
   "file_extension": ".py",
   "mimetype": "text/x-python",
   "name": "python",
   "nbconvert_exporter": "python",
   "pygments_lexer": "ipython3",
   "version": "3.7.7"
  }
 },
 "nbformat": 4,
 "nbformat_minor": 4
}
